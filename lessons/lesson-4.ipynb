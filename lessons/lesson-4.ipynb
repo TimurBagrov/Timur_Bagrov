{
 "cells": [
  {
   "cell_type": "code",
   "execution_count": 47,
   "metadata": {},
   "outputs": [
    {
     "name": "stdout",
     "output_type": "stream",
     "text": [
      "Шукаємо Мило...\n",
      "Шукаємо Паста...\n",
      "Шукаємо Картопля...\n",
      "Шукаємо Молоко...\n",
      "У 2 людей Молоко\n"
     ]
    }
   ],
   "source": [
    "goods_user_1 = [\"Мило\",\"Паста\",\"Картопля\",\"Молоко\"]\n",
    "goods_user_2 = [\"Чай\",\"Печево\",\"Молоко\",\"Сир\"]\n",
    "\n",
    "for i in goods_user_1 :\n",
    "    print(f\"Шукаємо {i}...\")\n",
    "    for j in goods_user_2 :\n",
    "        if i == j :\n",
    "            print(\"У 2 людей\", j)\n",
    "            break\n"
   ]
  },
  {
   "cell_type": "code",
   "execution_count": 55,
   "metadata": {},
   "outputs": [
    {
     "name": "stdout",
     "output_type": "stream",
     "text": [
      "Hello Timur\n"
     ]
    }
   ],
   "source": [
    "while True:\n",
    "    name = input(\"Enter name\")\n",
    "    if name == \"Timur\" :\n",
    "        print(f\"Hello {name}\")\n",
    "        break\n",
    "\n",
    "    else:\n",
    "        print(name)"
   ]
  },
  {
   "cell_type": "code",
   "execution_count": 69,
   "metadata": {},
   "outputs": [
    {
     "name": "stdout",
     "output_type": "stream",
     "text": [
      "1\n",
      "1\n"
     ]
    }
   ],
   "source": [
    "suma = 0\n",
    "number = 1\n",
    "\n",
    "esecute = True\n",
    "\n",
    "while esecute:\n",
    "    suma = suma + number ** 2\n",
    "    print(number)\n",
    "    number = number + 1\n",
    "    esecute - suma <= 100\n",
    "print(suma)"
   ]
  },
  {
   "cell_type": "code",
   "execution_count": 152,
   "metadata": {},
   "outputs": [
    {
     "name": "stdout",
     "output_type": "stream",
     "text": [
      "[]\n",
      "['Timur', 'Ivan', 'Dmytro', 'Olga']\n",
      "Timur\n",
      "Timur\n",
      "Kolia\n",
      "['Timur', 'Dmytro', 'Olga', 'Yulia', 'Kolia']\n",
      "['Dmytro', 'Olga', 'Yulia', 'Kolia']\n",
      "Best pupil Timur!\n",
      "['Dmytro', 'Olga', 'Kolia']\n"
     ]
    }
   ],
   "source": [
    "pupils = list()\n",
    "print(pupils)\n",
    "\n",
    "pupils = (\"Timur\",\"Ivan\",\"Dmytro\",\"Olga\")\n",
    "pupils = list((\"Timur\",\"Ivan\",\"Dmytro\",\"Olga\"))\n",
    "\n",
    "print(pupils)\n",
    "\n",
    "pupil = pupils[0]\n",
    "print(pupil)\n",
    "\n",
    "pupils.append(\"Yulia\")\n",
    "pupils.append(\"Kolia\")\n",
    "\n",
    "print(pupil)\n",
    "\n",
    "print(pupils[-1])\n",
    "\n",
    "pupils.remove(\"Ivan\")\n",
    "print(pupils)\n",
    "#pupils.remove(\"Ivan123\")\n",
    "\n",
    "best = pupils.pop(0)\n",
    "print(pupils)\n",
    "print(f\"Best pupil {best}!\")\n",
    "\n",
    "del pupils[2]\n",
    "print(pupils)"
   ]
  },
  {
   "cell_type": "code",
   "execution_count": 1,
   "metadata": {},
   "outputs": [
    {
     "name": "stdout",
     "output_type": "stream",
     "text": [
      "('Timur', 'Ivan', 'Dmytro', 'Olga')\n"
     ]
    },
    {
     "ename": "AttributeError",
     "evalue": "'tuple' object has no attribute 'clear'",
     "output_type": "error",
     "traceback": [
      "\u001b[1;31m---------------------------------------------------------------------------\u001b[0m",
      "\u001b[1;31mAttributeError\u001b[0m                            Traceback (most recent call last)",
      "\u001b[1;32m~\\AppData\\Local\\Temp/ipykernel_16296/1065834295.py\u001b[0m in \u001b[0;36m<module>\u001b[1;34m\u001b[0m\n\u001b[0;32m      2\u001b[0m \u001b[0mprint\u001b[0m\u001b[1;33m(\u001b[0m\u001b[0mpupils\u001b[0m\u001b[1;33m)\u001b[0m\u001b[1;33m\u001b[0m\u001b[1;33m\u001b[0m\u001b[0m\n\u001b[0;32m      3\u001b[0m \u001b[1;33m\u001b[0m\u001b[0m\n\u001b[1;32m----> 4\u001b[1;33m \u001b[0mpupils\u001b[0m\u001b[1;33m.\u001b[0m\u001b[0mclear\u001b[0m\u001b[1;33m(\u001b[0m\u001b[1;33m)\u001b[0m\u001b[1;33m\u001b[0m\u001b[1;33m\u001b[0m\u001b[0m\n\u001b[0m\u001b[0;32m      5\u001b[0m \u001b[0mprint\u001b[0m\u001b[1;33m(\u001b[0m\u001b[0mpupils\u001b[0m\u001b[1;33m)\u001b[0m\u001b[1;33m\u001b[0m\u001b[1;33m\u001b[0m\u001b[0m\n",
      "\u001b[1;31mAttributeError\u001b[0m: 'tuple' object has no attribute 'clear'"
     ]
    }
   ],
   "source": [
    "pupils = (\"Timur\",\"Ivan\",\"Dmytro\",\"Olga\")\n",
    "print(pupils)\n",
    "\n",
    "pupils.clear()\n",
    "print(pupils)"
   ]
  },
  {
   "cell_type": "code",
   "execution_count": 20,
   "metadata": {},
   "outputs": [
    {
     "name": "stdout",
     "output_type": "stream",
     "text": [
      "У класі\n"
     ]
    }
   ],
   "source": [
    "pupils = (\"Timur\",\"Ivan\",\"Dmytro\",\"Olga\")\n",
    "\n",
    "count = input(\"Учень: \")\n",
    "\n",
    "if count == pupils:\n",
    "    print(\"У класі\")\n",
    "else:\n",
    "    print(\"Нема\")"
   ]
  },
  {
   "cell_type": "code",
   "execution_count": 24,
   "metadata": {},
   "outputs": [
    {
     "name": "stdout",
     "output_type": "stream",
     "text": [
      "['Timur', 'Ivan', 'Dmytro', 'Olga']\n"
     ]
    }
   ],
   "source": [
    "pupils = [\"Timur\",\"Ivan\",\"Dmytro\",\"Olga\"]\n",
    "\n",
    "pupils_1 = pupils.copy()\n",
    "\n",
    "print(pupils_1)\n"
   ]
  },
  {
   "cell_type": "code",
   "execution_count": 25,
   "metadata": {},
   "outputs": [
    {
     "name": "stdout",
     "output_type": "stream",
     "text": [
      "4\n"
     ]
    }
   ],
   "source": [
    "pupils = [\"Timur\",\"Ivan\",\"Dmytro\",\"Olga\"]\n",
    "\n",
    "pupils_len = len(pupils)\n",
    "print(pupils_len)"
   ]
  },
  {
   "cell_type": "code",
   "execution_count": 27,
   "metadata": {},
   "outputs": [
    {
     "name": "stdout",
     "output_type": "stream",
     "text": [
      "У класі\n"
     ]
    }
   ],
   "source": [
    "pupils = (\"Timur\",\"Ivan\",\"Dmytro\",\"Olga\")\n",
    "\n",
    "count = input(\"Учень: \")\n",
    "\n",
    "\n",
    "\n",
    "if count in pupils:\n",
    "    print(\"У класі\")\n",
    "else:\n",
    "    print(\"Нема\")\n"
   ]
  },
  {
   "cell_type": "code",
   "execution_count": 52,
   "metadata": {},
   "outputs": [
    {
     "name": "stdout",
     "output_type": "stream",
     "text": [
      "Апесьин Банан Мандарин ['Апесьин', 'Банан', 'Мандарин', [...]] "
     ]
    }
   ],
   "source": [
    "products = [\"Апесьин\",\"Банан\",\"Мандарин\"]\n",
    "products_sold = list()\n",
    "\n",
    "while True:\n",
    "    product = input(\"Введіть зазву продукту аба 0 для вихода\")\n",
    "\n",
    "    if product == \"0\":\n",
    "        break\n",
    "    else:\n",
    "        products.append(products)\n",
    "\n",
    "for product in products:\n",
    "    print(product, end=\" \")"
   ]
  }
 ],
 "metadata": {
  "interpreter": {
   "hash": "38740d3277777e2cd7c6c2cc9d8addf5118fdf3f82b1b39231fd12aeac8aee8b"
  },
  "kernelspec": {
   "display_name": "Python 3.10.0 64-bit",
   "language": "python",
   "name": "python3"
  },
  "language_info": {
   "codemirror_mode": {
    "name": "ipython",
    "version": 3
   },
   "file_extension": ".py",
   "mimetype": "text/x-python",
   "name": "python",
   "nbconvert_exporter": "python",
   "pygments_lexer": "ipython3",
   "version": "3.10.0"
  },
  "orig_nbformat": 4
 },
 "nbformat": 4,
 "nbformat_minor": 2
}
