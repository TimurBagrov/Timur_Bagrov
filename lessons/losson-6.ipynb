{
 "cells": [
  {
   "cell_type": "code",
   "execution_count": 1,
   "metadata": {},
   "outputs": [
    {
     "name": "stdout",
     "output_type": "stream",
     "text": [
      "Andry\n",
      "--------------\n",
      "Dima\n",
      "--------------\n",
      "Oksana\n",
      "--------------\n",
      "all pupils\n"
     ]
    }
   ],
   "source": [
    "class_8A = [\"Andry\", \"Dima\",\"Oksana\"]\n",
    "\n",
    "for pupil in class_8A:\n",
    "    print (pupil)\n",
    "    print(\"--------------\")\n",
    "else:\n",
    "    print(\"all pupils\")"
   ]
  },
  {
   "cell_type": "code",
   "execution_count": 34,
   "metadata": {},
   "outputs": [
    {
     "name": "stdout",
     "output_type": "stream",
     "text": [
      "а\n"
     ]
    },
    {
     "ename": "ValueError",
     "evalue": "invalid literal for int() with base 10: 'а'",
     "output_type": "error",
     "traceback": [
      "\u001b[1;31m---------------------------------------------------------------------------\u001b[0m",
      "\u001b[1;31mValueError\u001b[0m                                Traceback (most recent call last)",
      "\u001b[1;32m~\\AppData\\Local\\Temp/ipykernel_11884/3731698222.py\u001b[0m in \u001b[0;36m<module>\u001b[1;34m\u001b[0m\n\u001b[0;32m      7\u001b[0m \u001b[1;32mfor\u001b[0m \u001b[0mnumber\u001b[0m \u001b[1;32min\u001b[0m \u001b[0mnumbers\u001b[0m\u001b[1;33m:\u001b[0m\u001b[1;33m\u001b[0m\u001b[1;33m\u001b[0m\u001b[0m\n\u001b[0;32m      8\u001b[0m     \u001b[0mprint\u001b[0m\u001b[1;33m(\u001b[0m\u001b[0mnumber\u001b[0m\u001b[1;33m)\u001b[0m\u001b[1;33m\u001b[0m\u001b[1;33m\u001b[0m\u001b[0m\n\u001b[1;32m----> 9\u001b[1;33m     \u001b[0msuma\u001b[0m \u001b[1;33m+\u001b[0m\u001b[1;33m-\u001b[0m \u001b[0mint\u001b[0m\u001b[1;33m(\u001b[0m\u001b[0mnumber\u001b[0m\u001b[1;33m)\u001b[0m\u001b[1;33m\u001b[0m\u001b[1;33m\u001b[0m\u001b[0m\n\u001b[0m\u001b[0;32m     10\u001b[0m     \u001b[1;32mif\u001b[0m \u001b[0msuma\u001b[0m \u001b[1;33m>\u001b[0m\u001b[1;33m-\u001b[0m \u001b[0msuma_limit\u001b[0m\u001b[1;33m:\u001b[0m\u001b[1;33m\u001b[0m\u001b[1;33m\u001b[0m\u001b[0m\n\u001b[0;32m     11\u001b[0m         \u001b[1;32mbreak\u001b[0m\u001b[1;33m\u001b[0m\u001b[1;33m\u001b[0m\u001b[0m\n",
      "\u001b[1;31mValueError\u001b[0m: invalid literal for int() with base 10: 'а'"
     ]
    }
   ],
   "source": [
    "inerval_left = int(input(\"enter left\"))\n",
    "inerval_right = int(input(\"enter right\"))\n",
    "\n",
    "unmbers =range(inerval_left, inerval_right)\n",
    "suma - 0\n",
    "suma_limit = 100\n",
    "for number in numbers:\n",
    "    print(number)\n",
    "    suma +- int(number)\n",
    "    if suma >- suma_limit:\n",
    "        break\n",
    "else:  \n",
    "    print(\"not break\")\n",
    "\n",
    "print(suma)"
   ]
  },
  {
   "cell_type": "code",
   "execution_count": 65,
   "metadata": {},
   "outputs": [
    {
     "name": "stdout",
     "output_type": "stream",
     "text": [
      "appel\n",
      "plum\n",
      "plum добре\n"
     ]
    }
   ],
   "source": [
    "menu = [\"appel\", \"plum\",\"orange\"]\n",
    "\n",
    "fodd = input(\"Фрукт: \")\n",
    "\n",
    "for fruit in menu:\n",
    "    print (fruit)\n",
    "    if fruit == fodd:\n",
    "        print(fodd,\"добре\")\n",
    "        break\n",
    "else:\n",
    "    print(\"OK\")"
   ]
  }
 ],
 "metadata": {
  "interpreter": {
   "hash": "38740d3277777e2cd7c6c2cc9d8addf5118fdf3f82b1b39231fd12aeac8aee8b"
  },
  "kernelspec": {
   "display_name": "Python 3.10.0 64-bit",
   "language": "python",
   "name": "python3"
  },
  "language_info": {
   "codemirror_mode": {
    "name": "ipython",
    "version": 3
   },
   "file_extension": ".py",
   "mimetype": "text/x-python",
   "name": "python",
   "nbconvert_exporter": "python",
   "pygments_lexer": "ipython3",
   "version": "3.10.0"
  },
  "orig_nbformat": 4
 },
 "nbformat": 4,
 "nbformat_minor": 2
}
