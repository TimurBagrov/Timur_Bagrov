{
 "cells": [
  {
   "cell_type": "code",
   "execution_count": 1,
   "metadata": {},
   "outputs": [
    {
     "name": "stdout",
     "output_type": "stream",
     "text": [
      "Літера: Б. Кол-во: 1\n",
      "Літера: а. Кол-во: 1\n",
      "Літера: г. Кол-во: 1\n",
      "Літера: р. Кол-во: 1\n",
      "Літера: о. Кол-во: 1\n",
      "Літера: в. Кол-во: 1\n"
     ]
    }
   ],
   "source": [
    "surename = input(\"Призвище:\")\n",
    "symbol = []\n",
    "\n",
    "for x in surename:\n",
    "    if x not in symbol:\n",
    "        print(f\"Літера: {x}. Кол-во: {surename.count(x)}\")\n",
    "        symbol.append(x)\n",
    "    "
   ]
  },
  {
   "cell_type": "code",
   "execution_count": 6,
   "metadata": {},
   "outputs": [
    {
     "name": "stdout",
     "output_type": "stream",
     "text": [
      "Строка без цифр: вфыавы\n"
     ]
    }
   ],
   "source": [
    "line = input(\"Строка: \")\n",
    "line_no_numbers = \"\"\n",
    "\n",
    "numbers = [\"1\" , \"2\" , \"3\" , \"4\" , \"5\" , \"6\" , \"7\" , \"8\" , \"9\" , \"0\"]\n",
    "\n",
    "for no_number in line:\n",
    "    if no_number not in  numbers:\n",
    "        line_no_numbers += no_number\n",
    "print(f\"Строка без цифр: {line_no_numbers}\")\n",
    "\n"
   ]
  },
  {
   "cell_type": "code",
   "execution_count": 12,
   "metadata": {},
   "outputs": [
    {
     "name": "stdout",
     "output_type": "stream",
     "text": [
      "Номера: ['+3809732435455', '+3804434674657', '+3809779497156', '+3804456797535', '+3806732987413']\n"
     ]
    }
   ],
   "source": [
    "number_phone = [\"+1235378594638\" , \"+3802857498635\" , \"+3809732435455\" , \"+3804434674657\" , \"+3800012673454\" , \"+3809779497156\" , \"+3804456797535\" , \"+3806732987413\"]\n",
    "number_phone_sort = []\n",
    "\n",
    "for x in number_phone: \n",
    "    if len(x) == 14: #14 тому що, \"+\" теж символ.\n",
    "        conditions = x\n",
    "        if conditions.startswith(\"+38067\") or conditions.startswith(\"+38068\") or conditions.startswith(\"+38097\") or conditions.startswith(\"+38044\"):\n",
    "            number_phone_sort.append(x)\n",
    "\n",
    "print (f\"Номера: {number_phone_sort}\")\n",
    " "
   ]
  }
 ],
 "metadata": {
  "interpreter": {
   "hash": "38740d3277777e2cd7c6c2cc9d8addf5118fdf3f82b1b39231fd12aeac8aee8b"
  },
  "kernelspec": {
   "display_name": "Python 3.10.0 64-bit",
   "language": "python",
   "name": "python3"
  },
  "language_info": {
   "codemirror_mode": {
    "name": "ipython",
    "version": 3
   },
   "file_extension": ".py",
   "mimetype": "text/x-python",
   "name": "python",
   "nbconvert_exporter": "python",
   "pygments_lexer": "ipython3",
   "version": "3.10.0"
  },
  "orig_nbformat": 4
 },
 "nbformat": 4,
 "nbformat_minor": 2
}
