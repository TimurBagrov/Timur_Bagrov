{
 "cells": [
  {
   "cell_type": "code",
   "execution_count": 5,
   "metadata": {},
   "outputs": [
    {
     "name": "stdout",
     "output_type": "stream",
     "text": [
      "Timur : 5\n",
      "Egor : 4\n",
      "Gleb : 5\n",
      "Andry : 5\n"
     ]
    }
   ],
   "source": [
    "pupils = {\n",
    "    \"Anna\": 3,\n",
    "    \"Timur\": 5,\n",
    "    \"Anton\": 1,\n",
    "    \"Egor\" : 4,\n",
    "    \"Gleb\": 5,\n",
    "    \"Liza\": 2,\n",
    "    \"Andry\": 5,\n",
    "}\n",
    "\n",
    "\n",
    "for surname, estimates_4_5 in pupils.items():\n",
    "    if estimates_4_5 == 4 or estimates_4_5 == 5:\n",
    "        print(surname, \":\", estimates_4_5)"
   ]
  },
  {
   "cell_type": "code",
   "execution_count": 1,
   "metadata": {},
   "outputs": [
    {
     "name": "stdout",
     "output_type": "stream",
     "text": [
      "Середня температура: 6.8.\n"
     ]
    }
   ],
   "source": [
    "town_temperature = {\n",
    "    \"Kyiv\" : 4,\n",
    "    \"Odessa\" : 10,\n",
    "    \"Kharkiv\" : 7,\n",
    "    \"Lviv\" : 12,\n",
    "    \"Dnipro\" : 1,\n",
    "}\n",
    "\n",
    "temperature_len = len(town_temperature)\n",
    "temperature_sum = 0\n",
    "\n",
    "for x in town_temperature.values():\n",
    "    temperature_sum += x\n",
    "    middle_tempareture = temperature_sum/temperature_len\n",
    "\n",
    "print(f\"Середня температура: {middle_tempareture}.\")"
   ]
  }
 ],
 "metadata": {
  "interpreter": {
   "hash": "38740d3277777e2cd7c6c2cc9d8addf5118fdf3f82b1b39231fd12aeac8aee8b"
  },
  "kernelspec": {
   "display_name": "Python 3.10.0 64-bit",
   "language": "python",
   "name": "python3"
  },
  "language_info": {
   "codemirror_mode": {
    "name": "ipython",
    "version": 3
   },
   "file_extension": ".py",
   "mimetype": "text/x-python",
   "name": "python",
   "nbconvert_exporter": "python",
   "pygments_lexer": "ipython3",
   "version": "3.10.0"
  },
  "orig_nbformat": 4
 },
 "nbformat": 4,
 "nbformat_minor": 2
}
