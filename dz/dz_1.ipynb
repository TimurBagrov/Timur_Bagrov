{
 "cells": [
  {
   "cell_type": "code",
   "execution_count": 20,
   "metadata": {},
   "outputs": [
    {
     "name": "stdout",
     "output_type": "stream",
     "text": [
      "Привіт. Я з Жопа, навчаюся у школі №Амогус.\n"
     ]
    }
   ],
   "source": [
    "#Задание №1\n",
    "town=input(\"Ваше місто: \")\n",
    "school=input(\"Номер школи: \")\n",
    "all= f\"Привіт. Я з {town}, навчаюся у школі №{school}.\"\n",
    "print(all)"
   ]
  },
  {
   "cell_type": "code",
   "execution_count": 18,
   "metadata": {},
   "outputs": [
    {
     "ename": "SyntaxError",
     "evalue": "invalid syntax (Temp/ipykernel_2224/2444579956.py, line 6)",
     "output_type": "error",
     "traceback": [
      "\u001b[1;36m  File \u001b[1;32m\"C:\\Users\\Admin\\AppData\\Local\\Temp/ipykernel_2224/2444579956.py\"\u001b[1;36m, line \u001b[1;32m6\u001b[0m\n\u001b[1;33m    print(\"Периметр:\", d\".\")\u001b[0m\n\u001b[1;37m                        ^\u001b[0m\n\u001b[1;31mSyntaxError\u001b[0m\u001b[1;31m:\u001b[0m invalid syntax\n"
     ]
    }
   ],
   "source": [
    "#Задание №2\n",
    "a=int(input(\"Перша сторона: \"))\n",
    "b=int(input(\"Друга сторона: \"))\n",
    "c=int(input(\"Третя сторона: \"))\n",
    "d=a*b*c\n",
    "print(\"Периметр:\", d)"
   ]
  }
 ],
 "metadata": {
  "interpreter": {
   "hash": "38740d3277777e2cd7c6c2cc9d8addf5118fdf3f82b1b39231fd12aeac8aee8b"
  },
  "kernelspec": {
   "display_name": "Python 3.10.0 64-bit",
   "name": "python3"
  },
  "language_info": {
   "codemirror_mode": {
    "name": "ipython",
    "version": 3
   },
   "file_extension": ".py",
   "mimetype": "text/x-python",
   "name": "python",
   "nbconvert_exporter": "python",
   "pygments_lexer": "ipython3",
   "version": "3.10.0"
  },
  "orig_nbformat": 4
 },
 "nbformat": 4,
 "nbformat_minor": 2
}
