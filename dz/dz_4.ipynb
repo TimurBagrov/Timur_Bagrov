{
 "cells": [
  {
   "cell_type": "code",
   "execution_count": 63,
   "metadata": {},
   "outputs": [
    {
     "name": "stdout",
     "output_type": "stream",
     "text": [
      "Додаю до списку материки зі східної півкулі\n",
      "-------------------------------------------\n",
      "Австралія\n",
      "Афкика\n",
      "Південна Америка\n",
      "Північна Америка\n",
      "Частина Євразии\n",
      "Частина Євразии\n",
      "Частина Антарктиди\n",
      "Частина Антарктиди\n",
      "Частина Афики\n",
      "Частина Африки\n"
     ]
    }
   ],
   "source": [
    "all = []\n",
    "\n",
    "materyk_1 = ['Північна Америка','Афкика','Південна Америка','Частина Євразии','Частина Афики','Частина Антарктиди']\n",
    "\n",
    "materyk_2 = ['Частина Євразии','Частина Африки','Австралія','Частина Антарктиди']\n",
    "\n",
    "all.extend(materyk_1)\n",
    "\n",
    "yes_and_no = input(\"Введіть yes для того щоб доповнити список материками зі східної півкулі або no для зупинки: \")\n",
    "if yes_and_no == \"yes\":\n",
    "    print(\"Додаю до списку материки зі східної півкулі\")\n",
    "    print(\"-------------------------------------------\")\n",
    "    all.extend(materyk_2)\n",
    "\n",
    "elif yes_and_no == \"no\":\n",
    "    print(\"Відміна додавання материків зі східної півкулі\")\n",
    "    print(\"----------------------------------------------\")\n",
    "all.sort()\n",
    "for all_sort in all:\n",
    "    print(all_sort)"
   ]
  },
  {
   "cell_type": "code",
   "execution_count": 33,
   "metadata": {},
   "outputs": [
    {
     "name": "stdout",
     "output_type": "stream",
     "text": [
      "Введіть категорію.\n",
      "Категорія phone шукаєтся...\n",
      "['Phone Samsung', 7800] ['Phone iPhone', 27800]\n",
      "По ціні 20303 знайдено...\n",
      "['Phone Samsung', 7800]\n"
     ]
    }
   ],
   "source": [
    "goods = [\n",
    "\n",
    "    [\"Phone Samsung\", 7800],\n",
    "\n",
    "    [\"Notebook Dell\", 28000],\n",
    "\n",
    "    [\"Notebook hp\", 35000],\n",
    "\n",
    "    [\"Phone iPhone\", 27800],\n",
    "\n",
    "]\n",
    "\n",
    "print(\"Введіть категорію.\")\n",
    " \n",
    "category = input(\"Категорія: \")\n",
    "\n",
    "print(f\"Категорія {category} шукаєтся...\")\n",
    "\n",
    "if category == \"phone\":\n",
    "    print (goods[0] , goods[3])\n",
    "    \n",
    "elif category == \"notebook\":\n",
    "    print (goods[1] , goods[2])\n",
    "else:\n",
    "    print(f\"Категорія {category} не знайдена. (Катерії: phone, notebook.)\")\n",
    "\n",
    "price = int(input(\"Ваш бюджет: \"))\n",
    "\n",
    "if price >= 35000:\n",
    "    print(f\"По ціні {price} знайдено...\")\n",
    "    print(goods[0] , goods[1] , goods[2] , goods[3])\n",
    "elif price >= 28000:\n",
    "    print(f\"По ціні {price} знайдено...\")\n",
    "    print(goods[0] , goods[3] , goods[1])\n",
    "elif price >= 27000:\n",
    "    print(f\"По ціні {price} знайдено...\")\n",
    "    print(goods[0] , goods[3])\n",
    "elif price >= 7801:\n",
    "    print(f\"По ціні {price} знайдено...\")\n",
    "    print(goods[0])\n",
    "elif price <= 7800:\n",
    "    print(\"Ваш бюджет малий.\")"
   ]
  }
 ],
 "metadata": {
  "interpreter": {
   "hash": "38740d3277777e2cd7c6c2cc9d8addf5118fdf3f82b1b39231fd12aeac8aee8b"
  },
  "kernelspec": {
   "display_name": "Python 3.10.0 64-bit",
   "language": "python",
   "name": "python3"
  },
  "language_info": {
   "codemirror_mode": {
    "name": "ipython",
    "version": 3
   },
   "file_extension": ".py",
   "mimetype": "text/x-python",
   "name": "python",
   "nbconvert_exporter": "python",
   "pygments_lexer": "ipython3",
   "version": "3.10.0"
  },
  "orig_nbformat": 4
 },
 "nbformat": 4,
 "nbformat_minor": 2
}
