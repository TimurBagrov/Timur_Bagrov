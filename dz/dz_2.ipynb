{
 "cells": [
  {
   "cell_type": "code",
   "execution_count": 191,
   "metadata": {},
   "outputs": [
    {
     "name": "stdout",
     "output_type": "stream",
     "text": [
      "Студент Багров набрав 100 балів і отримав оцінку відмінно\n"
     ]
    }
   ],
   "source": [
    "#Задание №1\n",
    "surename=input(\"Вкажіть прізвище: \")\n",
    "ball=int(input(\"Вкажіть свій бал: \"))\n",
    "a=(f\"Студент {surename} набрав {ball} балів і отримав оцінку відмінно\")\n",
    "b=(f\"Студент {surename} набрав {ball} балів і отримав оцінку добре\")\n",
    "c=(f\"Студент {surename} набрав {ball} балів і отримав оцінку задовільно\")\n",
    "d=(f\"Студент {surename} набрав {ball} балів і отримав оцінку незадовільно\")\n",
    "if ball >=95:\n",
    "    print(a)\n",
    "elif ball >=75:\n",
    "    print(b)\n",
    "elif ball >=60:\n",
    "    print(c)\n",
    "elif ball <60:\n",
    "    print(d)\n"
   ]
  },
  {
   "cell_type": "code",
   "execution_count": 185,
   "metadata": {},
   "outputs": [
    {
     "name": "stdout",
     "output_type": "stream",
     "text": [
      "Таблица:\n",
      "АА або КА - місто Київ\n",
      "АВ - Вінницька область\n",
      "АЕ - Дніпропетровська область\n",
      "АН - Донецька область\n",
      "Інша область - Інша область\n",
      "Ваша область/місто...\n",
      "Знайдено!\n",
      "Дніпропетровська область\n"
     ]
    }
   ],
   "source": [
    "#Задание №2\n",
    "print(\"Таблица:\")\n",
    "print(\"АА або КА - місто Київ\")\n",
    "print(\"АВ - Вінницька область\")\n",
    "print(\"АЕ - Дніпропетровська область\")\n",
    "print(\"АН - Донецька область\")\n",
    "print(\"Інша область - Інша область\")\n",
    "oblast=input(\"Яка область/місто? \")\n",
    "print(\"Ваша область/місто...\")\n",
    "print(\"Знайдено!\")\n",
    "if oblast==(\"АА\"):\n",
    "    print(\"Місто Київ\")\n",
    "elif oblast==(\"КА\"):\n",
    "    print(\"Місто Київ\")\n",
    "elif oblast==(\"АВ\"):\n",
    "    print(\"Вінницька область\")\n",
    "elif oblast==(\"АЕ\"):\n",
    "    print(\"Дніпропетровська область\")\n",
    "elif oblast==(\"АН\"):\n",
    "    print(\"Донецька область\")\n",
    "elif oblast==(\"Інша область\"):\n",
    "    print(\"Інша область\")"
   ]
  }
 ],
 "metadata": {
  "interpreter": {
   "hash": "38740d3277777e2cd7c6c2cc9d8addf5118fdf3f82b1b39231fd12aeac8aee8b"
  },
  "kernelspec": {
   "display_name": "Python 3.10.0 64-bit",
   "name": "python3"
  },
  "language_info": {
   "codemirror_mode": {
    "name": "ipython",
    "version": 3
   },
   "file_extension": ".py",
   "mimetype": "text/x-python",
   "name": "python",
   "nbconvert_exporter": "python",
   "pygments_lexer": "ipython3",
   "version": "3.10.0"
  },
  "orig_nbformat": 4
 },
 "nbformat": 4,
 "nbformat_minor": 2
}
