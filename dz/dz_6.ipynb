{
 "cells": [
  {
   "cell_type": "code",
   "execution_count": 28,
   "metadata": {},
   "outputs": [
    {
     "name": "stdout",
     "output_type": "stream",
     "text": [
      "Речення: Привіт, мене звати Тимур.Слово, яке мае найбільшу довжину: Привіт,.\n"
     ]
    }
   ],
   "source": [
    "line = input(\"Введіть речення\")\n",
    "\n",
    "word = line.split()\n",
    "\n",
    "big_words = max(word, key=len)\n",
    "\n",
    "print(f\"Речення: {line}.Слово, яке мае найбільшу довжину: {big_words}.\")"
   ]
  }
 ],
 "metadata": {
  "interpreter": {
   "hash": "38740d3277777e2cd7c6c2cc9d8addf5118fdf3f82b1b39231fd12aeac8aee8b"
  },
  "kernelspec": {
   "display_name": "Python 3.10.0 64-bit",
   "language": "python",
   "name": "python3"
  },
  "language_info": {
   "codemirror_mode": {
    "name": "ipython",
    "version": 3
   },
   "file_extension": ".py",
   "mimetype": "text/x-python",
   "name": "python",
   "nbconvert_exporter": "python",
   "pygments_lexer": "ipython3",
   "version": "3.10.0"
  },
  "orig_nbformat": 4
 },
 "nbformat": 4,
 "nbformat_minor": 2
}
